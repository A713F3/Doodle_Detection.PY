{
 "cells": [
  {
   "cell_type": "code",
   "execution_count": 1,
   "metadata": {},
   "outputs": [],
   "source": [
    "import tensorflow as tf\n",
    "\n",
    "from tensorflow import keras\n",
    "from tensorflow.keras.layers import Dense\n",
    "from tensorflow.keras.models import Sequential\n",
    "\n",
    "import numpy as np\n",
    "import matplotlib.pyplot as plt\n",
    "\n",
    "import os\n",
    "\n",
    "%matplotlib inline"
   ]
  },
  {
   "cell_type": "code",
   "execution_count": 2,
   "metadata": {},
   "outputs": [],
   "source": [
    "class Dataset:\n",
    "    def __init__(self):\n",
    "        self.label_count = 0\n",
    "        self.images = np.array([])\n",
    "        self.labels = np.array([])\n",
    "        self.image_size = 0\n",
    "        self.names = {}\n",
    "\n",
    "    def addImages(self, name, perc = 1.0):\n",
    "        images = np.load(name) / 255\n",
    "        images_len = int(len(images) * perc)\n",
    "        images = images[:images_len]\n",
    "\n",
    "        label = np.append(np.zeros(self.label_count), 1)\n",
    "        labels = np.tile(label, (len(images), 1))\n",
    "        self.names[self.label_count] = name.split('/')[-1][:-4]\n",
    "\n",
    "        if self.images.size:\n",
    "            z = np.zeros((self.labels.shape[0], 1))\n",
    "            self.labels = np.concatenate((self.labels, z), axis=1)\n",
    "\n",
    "            self.images = np.concatenate((self.images, images), axis=0)\n",
    "            self.labels = np.concatenate((self.labels, labels), axis=0)\n",
    "        else:\n",
    "            self.images = images\n",
    "            self.labels = labels\n",
    "\n",
    "        self.label_count += 1\n",
    "        self.image_size = self.images.shape[1]\n",
    "        print(\"LOADED SUCCESSFULLY! :\", name)\n",
    "    \n",
    "    def shuffleDatas(self):\n",
    "        shuffle_i = np.arange(len(self.images))\n",
    "        np.random.shuffle(shuffle_i)\n",
    "\n",
    "        self.images = self.images[shuffle_i]\n",
    "        self.labels = self.labels[shuffle_i]\n",
    "\n",
    "    def splitDatas(self,train_perc=0.75):\n",
    "        train_len = int(self.images.shape[0] * train_perc)\n",
    "\n",
    "        train_images, test_images = np.split(self.images, [train_len])\n",
    "        train_labels, test_labels = np.split(self.labels, [train_len])\n",
    "\n",
    "        return (train_images, train_labels), (test_images, test_labels)\n",
    "\n",
    "    def addImagesFromDir(self, ds_dir, perc=1.0):\n",
    "        for path, subdirs, files in os.walk(ds_dir): pass\n",
    "\n",
    "        for file_name in files:\n",
    "            if file_name[0] == '.': continue\n",
    "    \n",
    "            self.addImages(ds_dir + file_name, perc=perc)\n"
   ]
  },
  {
   "cell_type": "code",
   "execution_count": 3,
   "metadata": {},
   "outputs": [
    {
     "name": "stdout",
     "output_type": "stream",
     "text": [
      "LOADED SUCCESSFULLY! : images/apple.npy\n",
      "LOADED SUCCESSFULLY! : images/airplane.npy\n",
      "LOADED SUCCESSFULLY! : images/laptop.npy\n",
      "LOADED SUCCESSFULLY! : images/banana.npy\n",
      "LOADED SUCCESSFULLY! : images/star.npy\n",
      "LOADED SUCCESSFULLY! : images/rainbow.npy\n",
      "LOADED SUCCESSFULLY! : images/TheEiffelTower.npy\n",
      "LOADED SUCCESSFULLY! : images/bridge.npy\n"
     ]
    }
   ],
   "source": [
    "ds_dir = 'images/'\n",
    "\n",
    "ds = Dataset()\n",
    "\n",
    "ds.addImagesFromDir(ds_dir, perc=0.50)\n",
    "\n",
    "ds.shuffleDatas()\n",
    "\n",
    "train, test = ds.splitDatas(train_perc=0.90)"
   ]
  },
  {
   "cell_type": "code",
   "execution_count": 6,
   "metadata": {},
   "outputs": [],
   "source": [
    "input_size = ds.image_size\n",
    "output_size = ds.label_count\n",
    "\n",
    "model = Sequential()\n",
    "model.add(Dense(256, activation='relu', input_dim = input_size))\n",
    "model.add(Dense(256, activation='relu'))\n",
    "model.add(Dense(output_size, activation='softmax'))\n",
    "\n",
    "model.compile(loss='categorical_crossentropy', \n",
    "            optimizer='adam',\n",
    "            metrics=['accuracy'])"
   ]
  },
  {
   "cell_type": "code",
   "execution_count": 7,
   "metadata": {},
   "outputs": [
    {
     "name": "stdout",
     "output_type": "stream",
     "text": [
      "Train on 629123 samples, validate on 69903 samples\n",
      "629123/629123 [==============================] - 123s 195us/sample - loss: 0.2642 - accuracy: 0.9148 - val_loss: 0.2354 - val_accuracy: 0.9243\n"
     ]
    }
   ],
   "source": [
    "train_images, train_labels = train\n",
    "test_images, test_labels = test\n",
    "\n",
    "epochs = 1\n",
    "\n",
    "history = model.fit(train_images, train_labels, \n",
    "                    epochs=epochs,\n",
    "                    validation_data=(test_images, test_labels))"
   ]
  },
  {
   "cell_type": "code",
   "execution_count": 8,
   "metadata": {},
   "outputs": [
    {
     "data": {
      "image/png": "[encoded data removed]",
      "text/plain": [
       "<Figure size 432x288 with 1 Axes>"
      ]
     },
     "metadata": {
      "needs_background": "light"
     },
     "output_type": "display_data"
    }
   ],
   "source": [
    "plt.plot(history.history['accuracy'])\n",
    "plt.plot(history.history['val_accuracy'])\n",
    "plt.title('model accuracy')\n",
    "plt.ylabel('accuracy')\n",
    "plt.xlabel('epoch')\n",
    "plt.legend(['train', 'val'], loc='upper left')\n",
    "plt.show()"
   ]
  },
  {
   "cell_type": "code",
   "execution_count": 9,
   "metadata": {},
   "outputs": [],
   "source": [
    "names = ds.names\n",
    "\n",
    "def predictImage(i):\n",
    "    test_image = np.array([ds.images[i]])\n",
    "\n",
    "    prediction = model.predict(test_image)\n",
    "    name_i = np.argmax(prediction)\n",
    "\n",
    "    print(\"Doodle =\", names[name_i])\n",
    "\n",
    "    test = ds.images[i]\n",
    "    test = 255 - test * 255\n",
    "    d = int(np.sqrt(test.shape[0]))\n",
    "    resized_test = np.resize(test, (d,d))\n",
    "\n",
    "    plt.imshow(resized_test, cmap='gray')"
   ]
  },
  {
   "cell_type": "code",
   "execution_count": 10,
   "metadata": {},
   "outputs": [
    {
     "name": "stdout",
     "output_type": "stream",
     "text": [
      "Doodle = banana\n"
     ]
    },
    {
     "data": {
      "image/png": "[encoded data removed]",
      "text/plain": [
       "<Figure size 432x288 with 1 Axes>"
      ]
     },
     "metadata": {
      "needs_background": "light"
     },
     "output_type": "display_data"
    }
   ],
   "source": [
    "predictImage(2)"
   ]
  },
  {
   "cell_type": "code",
   "execution_count": 11,
   "metadata": {},
   "outputs": [
    {
     "name": "stdout",
     "output_type": "stream",
     "text": [
      "Doodle = apple\n"
     ]
    },
    {
     "data": {
      "image/png": "[encoded data removed]",
      "text/plain": [
       "<Figure size 432x288 with 1 Axes>"
      ]
     },
     "metadata": {
      "needs_background": "light"
     },
     "output_type": "display_data"
    }
   ],
   "source": [
    "predictImage(1)"
   ]
  },
  {
   "cell_type": "code",
   "execution_count": 12,
   "metadata": {},
   "outputs": [
    {
     "name": "stdout",
     "output_type": "stream",
     "text": [
      "Doodle = TheEiffelTower\n"
     ]
    },
    {
     "data": {
      "image/png": "[encoded data removed]",
      "text/plain": [
       "<Figure size 432x288 with 1 Axes>"
      ]
     },
     "metadata": {
      "needs_background": "light"
     },
     "output_type": "display_data"
    }
   ],
   "source": [
    "predictImage(60)"
   ]
  },
  {
   "cell_type": "code",
   "execution_count": 13,
   "metadata": {},
   "outputs": [
    {
     "name": "stdout",
     "output_type": "stream",
     "text": [
      "WARNING:tensorflow:From /Users/aliefe/anaconda3/envs/tf/lib/python3.7/site-packages/tensorflow_core/python/ops/resource_variable_ops.py:1781: calling BaseResourceVariable.__init__ (from tensorflow.python.ops.resource_variable_ops) with constraint is deprecated and will be removed in a future version.\n",
      "Instructions for updating:\n",
      "If using Keras pass *_constraint arguments to layers.\n",
      "INFO:tensorflow:Assets written to: doodle_model_v1/assets\n"
     ]
    },
    {
     "name": "stderr",
     "output_type": "stream",
     "text": [
      "2022-10-17 22:10:06.253866: W tensorflow/python/util/util.cc:299] Sets are not currently considered sequences, but this may change in the future, so consider avoiding using them.\n"
     ]
    }
   ],
   "source": [
    "model.save(\"doodle_model_v1\")"
   ]
  },
  {
   "cell_type": "code",
   "execution_count": 14,
   "metadata": {},
   "outputs": [
    {
     "data": {
      "text/plain": [
       "{0: 'apple',\n",
       " 1: 'airplane',\n",
       " 2: 'laptop',\n",
       " 3: 'banana',\n",
       " 4: 'star',\n",
       " 5: 'rainbow',\n",
       " 6: 'TheEiffelTower',\n",
       " 7: 'bridge'}"
      ]
     },
     "execution_count": 14,
     "metadata": {},
     "output_type": "execute_result"
    }
   ],
   "source": [
    "ds.names"
   ]
  },
  {
   "cell_type": "code",
   "execution_count": null,
   "metadata": {},
   "outputs": [],
   "source": []
  }
 ],
 "metadata": {
  "kernelspec": {
   "display_name": "Python 3.7.13 ('tf')",
   "language": "python",
   "name": "python3"
  },
  "language_info": {
   "codemirror_mode": {
    "name": "ipython",
    "version": 3
   },
   "file_extension": ".py",
   "mimetype": "text/x-python",
   "name": "python",
   "nbconvert_exporter": "python",
   "pygments_lexer": "ipython3",
   "version": "3.7.13"
  },
  "orig_nbformat": 4,
  "vscode": {
   "interpreter": {
    "hash": "6703fbe6ca40c7e40e75639392d9ea3d4c56aec49ab8e2f1a8a713459242249c"
   }
  }
 },
 "nbformat": 4,
 "nbformat_minor": 2
}
